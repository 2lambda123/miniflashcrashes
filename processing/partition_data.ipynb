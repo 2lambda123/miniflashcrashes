{
 "cells": [
  {
   "cell_type": "markdown",
   "metadata": {},
   "source": [
    "# Data paritioning\n",
    "\n",
    "This file partitions a single text format data file into separate files: one per ticker symbol.\n"
   ]
  },
  {
   "cell_type": "code",
   "execution_count": null,
   "metadata": {
    "collapsed": false
   },
   "outputs": [],
   "source": [
    "import glob\n",
    "import os\n",
    "import sys\n",
    "\n",
    "try:\n",
    "    os.mkdir(\"output\")\n",
    "except:\n",
    "    pass\n",
    "\n",
    "for file in glob.glob(\"output_*.GS.nxc.txt\"):\n",
    "    dirname=file.replace(\".GS.nxc.txt\",\"\")\n",
    "    date=dirname.replace(\"output_\",\"\")\n",
    "    try:\n",
    "        os.mkdir(dirname)\n",
    "    except:\n",
    "        sys.stderr.write(\"Directory {} already exists. The file {} will *not* be processed. Remove the existing directory if you wish to process this file.\\n\".format(dirname,file))\n",
    "        continue\n",
    "    sys.stdout.write(\"Processing file {}\\n\".format(file))\n",
    "    count=0\n",
    "    with open(file, \"r\") as fh:\n",
    "        for line in fh:\n",
    "            count+=1\n",
    "            symbol=line.split(\"\\t\",1)[0].strip()\n",
    "            with open(\"{}/{}\".format(dirname,symbol),\"a\") as outf:\n",
    "                outf.write(\"{}\\t{}\".format(date,line))\n",
    "            if count%1000000==0:\n",
    "                sys.stdout.write(\".\")\n",
    "    sys.stdout.write(\"\\n\")\n",
    "\n",
    "sys.stdout.write(\"All done.\\n\")\n",
    "                "
   ]
  }
 ],
 "metadata": {
  "kernelspec": {
   "display_name": "Python 3",
   "language": "python",
   "name": "python3"
  },
  "language_info": {
   "codemirror_mode": {
    "name": "ipython",
    "version": 3
   },
   "file_extension": ".py",
   "mimetype": "text/x-python",
   "name": "python",
   "nbconvert_exporter": "python",
   "pygments_lexer": "ipython3",
   "version": "3.5.3"
  }
 },
 "nbformat": 4,
 "nbformat_minor": 1
}
